{
 "cells": [
  {
   "cell_type": "markdown",
   "metadata": {
    "vscode": {
     "languageId": "plaintext"
    }
   },
   "source": [
    "Copyright **`(c)`** 2024 Giovanni Squillero `<giovanni.squillero@polito.it>`  \n",
    "[`https://github.com/squillero/computational-intelligence`](https://github.com/squillero/computational-intelligence)  \n",
    "Free under certain conditions — see the [`license`](https://github.com/squillero/computational-intelligence/blob/master/LICENSE.md) for details.  "
   ]
  },
  {
   "cell_type": "code",
   "execution_count": 1,
   "metadata": {},
   "outputs": [],
   "source": [
    "from collections import namedtuple\n",
    "from random import choice\n",
    "from tqdm.auto import tqdm\n",
    "import numpy as np\n",
    "from collections import deque\n",
    "import heapq\n",
    "\n"
   ]
  },
  {
   "cell_type": "markdown",
   "metadata": {},
   "source": [
    "# BFS Algorithm with 3x3 puzzle:"
   ]
  },
  {
   "cell_type": "code",
   "execution_count": 2,
   "metadata": {},
   "outputs": [],
   "source": [
    "PUZZLE_DIM = 3\n",
    "action = namedtuple('Action', ['pos1', 'pos2'])"
   ]
  },
  {
   "cell_type": "code",
   "execution_count": 3,
   "metadata": {},
   "outputs": [],
   "source": [
    "\n",
    "def generate_goal(PUZZLE_DIM):\n",
    "    \"\"\"Generate the goal state for an NxN puzzle.\"\"\"\n",
    "    numbers = np.arange(1, PUZZLE_DIM * PUZZLE_DIM)  # Create numbers from 1 to (PUZZLE_DIM * PUZZLE_DIM - 1)\n",
    "    goal = np.append(numbers, 0)  # Append 0 at the end\n",
    "    return goal.reshape(PUZZLE_DIM, PUZZLE_DIM)  # Return reshaped NxN NumPy array"
   ]
  },
  {
   "cell_type": "code",
   "execution_count": 4,
   "metadata": {},
   "outputs": [
    {
     "name": "stdout",
     "output_type": "stream",
     "text": [
      "[[1 2 3]\n",
      " [4 5 6]\n",
      " [7 8 0]]\n"
     ]
    }
   ],
   "source": [
    "goal = generate_goal(PUZZLE_DIM)\n",
    "print(goal)"
   ]
  },
  {
   "cell_type": "code",
   "execution_count": 5,
   "metadata": {},
   "outputs": [],
   "source": [
    "def available_actions(state: np.ndarray) -> list['Action']:\n",
    "    x, y = [int(_[0]) for _ in np.where(state == 0)]\n",
    "    actions = list()\n",
    "    if x > 0:\n",
    "        actions.append(action((x, y), (x - 1, y)))\n",
    "    if x < PUZZLE_DIM - 1:\n",
    "        actions.append(action((x, y), (x + 1, y)))\n",
    "    if y > 0:\n",
    "        actions.append(action((x, y), (x, y - 1)))\n",
    "    if y < PUZZLE_DIM - 1:\n",
    "        actions.append(action((x, y), (x, y + 1)))\n",
    "    return actions\n",
    "\n",
    "\n",
    "\n",
    "def do_action(state: np.ndarray, action: 'Action') -> np.ndarray:\n",
    "    new_state = state.copy()\n",
    "    new_state[action.pos1], new_state[action.pos2] = new_state[action.pos2], new_state[action.pos1]\n",
    "    return new_state"
   ]
  },
  {
   "cell_type": "code",
   "execution_count": 6,
   "metadata": {},
   "outputs": [
    {
     "data": {
      "application/vnd.jupyter.widget-view+json": {
       "model_id": "abe7fd9f781140aa8f1a795f216c79c5",
       "version_major": 2,
       "version_minor": 0
      },
      "text/plain": [
       "Randomizing:   0%|          | 0/100000 [00:00<?, ?it/s]"
      ]
     },
     "metadata": {},
     "output_type": "display_data"
    },
    {
     "data": {
      "text/plain": [
       "array([[1, 6, 5],\n",
       "       [3, 0, 2],\n",
       "       [8, 4, 7]])"
      ]
     },
     "execution_count": 6,
     "metadata": {},
     "output_type": "execute_result"
    }
   ],
   "source": [
    "RANDOMIZE_STEPS = 100_000\n",
    "state = np.array([i for i in range(1, PUZZLE_DIM**2)] + [0]).reshape((PUZZLE_DIM, PUZZLE_DIM))\n",
    "for r in tqdm(range(RANDOMIZE_STEPS), desc='Randomizing'):\n",
    "    state = do_action(state, choice(available_actions(state)))\n",
    "state"
   ]
  },
  {
   "cell_type": "code",
   "execution_count": 7,
   "metadata": {},
   "outputs": [],
   "source": [
    "def find_zero(state):\n",
    "    \"\"\"Find the position of 0 in the grid.\"\"\"\n",
    "    return np.argwhere(state == 0)[0]\n"
   ]
  },
  {
   "cell_type": "code",
   "execution_count": 8,
   "metadata": {},
   "outputs": [],
   "source": [
    "def get_neighbors(state):\n",
    "    \"\"\"Generate valid neighbors by moving the blank tile.\"\"\"\n",
    "    neighbors = []\n",
    "    x, y = find_zero(state)\n",
    "    moves = [(-1, 0), (1, 0), (0, -1), (0, 1)]  # Up, Down, Left, Right\n",
    "\n",
    "    for dx, dy in moves:\n",
    "        nx, ny = x + dx, y + dy\n",
    "        if 0 <= nx < state.shape[0] and 0 <= ny < state.shape[1]:  # check bounds\n",
    "            new_state = state.copy()\n",
    "            # swap 0 with the neighbor\n",
    "            new_state[x, y], new_state[nx, ny] = new_state[nx, ny], new_state[x, y]\n",
    "            neighbors.append(new_state)\n",
    "\n",
    "    return neighbors"
   ]
  },
  {
   "cell_type": "code",
   "execution_count": 9,
   "metadata": {},
   "outputs": [],
   "source": [
    "def bfs(start, goal):\n",
    "    \"\"\"Breadth-First Search to solve the puzzle with cost calculation.\"\"\"\n",
    "    # queue stores tuples: (state, path, cost)\n",
    "    queue = deque([(start, [], 0)])  # (state, path of moves, cost)\n",
    "    visited = set()  # to avoid revisiting states\n",
    "    visited.add(start.tobytes())\n",
    "    evaluated_count = 0\n",
    "\n",
    "    while queue:\n",
    "        current_state, path, cost = queue.popleft()\n",
    "        evaluated_count += 1\n",
    "\n",
    "        \n",
    "        if np.array_equal(current_state, goal):\n",
    "            return path, cost, evaluated_count  # return both path and total cost\n",
    "        \n",
    "        # explore neighbors\n",
    "        for neighbor in get_neighbors(current_state):\n",
    "            if neighbor.tobytes() not in visited:\n",
    "                visited.add(neighbor.tobytes())\n",
    "                # append neighbor state, path, and increased cost\n",
    "                queue.append((neighbor, path + [neighbor], cost + 1))\n",
    "    \n",
    "    return None, None, evaluated_count  # No solution"
   ]
  },
  {
   "cell_type": "code",
   "execution_count": 10,
   "metadata": {},
   "outputs": [
    {
     "name": "stdout",
     "output_type": "stream",
     "text": [
      "Solution Path:\n",
      "Step number : 1\n",
      "[[1 0 5]\n",
      " [3 6 2]\n",
      " [8 4 7]]\n",
      "Step number : 2\n",
      "[[1 5 0]\n",
      " [3 6 2]\n",
      " [8 4 7]]\n",
      "Step number : 3\n",
      "[[1 5 2]\n",
      " [3 6 0]\n",
      " [8 4 7]]\n",
      "Step number : 4\n",
      "[[1 5 2]\n",
      " [3 0 6]\n",
      " [8 4 7]]\n",
      "Step number : 5\n",
      "[[1 5 2]\n",
      " [0 3 6]\n",
      " [8 4 7]]\n",
      "Step number : 6\n",
      "[[1 5 2]\n",
      " [8 3 6]\n",
      " [0 4 7]]\n",
      "Step number : 7\n",
      "[[1 5 2]\n",
      " [8 3 6]\n",
      " [4 0 7]]\n",
      "Step number : 8\n",
      "[[1 5 2]\n",
      " [8 3 6]\n",
      " [4 7 0]]\n",
      "Step number : 9\n",
      "[[1 5 2]\n",
      " [8 3 0]\n",
      " [4 7 6]]\n",
      "Step number : 10\n",
      "[[1 5 2]\n",
      " [8 0 3]\n",
      " [4 7 6]]\n",
      "Step number : 11\n",
      "[[1 5 2]\n",
      " [0 8 3]\n",
      " [4 7 6]]\n",
      "Step number : 12\n",
      "[[1 5 2]\n",
      " [4 8 3]\n",
      " [0 7 6]]\n",
      "Step number : 13\n",
      "[[1 5 2]\n",
      " [4 8 3]\n",
      " [7 0 6]]\n",
      "Step number : 14\n",
      "[[1 5 2]\n",
      " [4 0 3]\n",
      " [7 8 6]]\n",
      "Step number : 15\n",
      "[[1 0 2]\n",
      " [4 5 3]\n",
      " [7 8 6]]\n",
      "Step number : 16\n",
      "[[1 2 0]\n",
      " [4 5 3]\n",
      " [7 8 6]]\n",
      "Step number : 17\n",
      "[[1 2 3]\n",
      " [4 5 0]\n",
      " [7 8 6]]\n",
      "Step number : 18\n",
      "[[1 2 3]\n",
      " [4 5 6]\n",
      " [7 8 0]]\n",
      "Total cost (number of moves): 18\n",
      "Total number of evaluated cases: 24735\n"
     ]
    }
   ],
   "source": [
    "\n",
    "solution_path, total_cost, evaluated_cases = bfs(state, goal)\n",
    "counter = 0\n",
    "if solution_path is not None:\n",
    "    print(\"Solution Path:\")\n",
    "    for step in solution_path:\n",
    "        counter = counter +1\n",
    "        print(\"Step number :\", counter)\n",
    "        print(step)\n",
    "    print(f\"Total cost (number of moves): {total_cost}\")\n",
    "else:\n",
    "    print(\"No solution found.\")\n",
    "\n",
    "print(f\"Total number of evaluated cases: {evaluated_cases}\")\n"
   ]
  },
  {
   "cell_type": "markdown",
   "metadata": {},
   "source": [
    "# A* Algorithm with 4x4 puzzle"
   ]
  },
  {
   "cell_type": "code",
   "execution_count": 21,
   "metadata": {},
   "outputs": [],
   "source": [
    "PUZZLE_DIM = 4\n",
    "action = namedtuple('Action', ['pos1', 'pos2'])"
   ]
  },
  {
   "cell_type": "code",
   "execution_count": 22,
   "metadata": {},
   "outputs": [],
   "source": [
    "\n",
    "def generate_goal(PUZZLE_DIM):\n",
    "    \"\"\"Generate the goal state for an NxN puzzle.\"\"\"\n",
    "    numbers = np.arange(1, PUZZLE_DIM * PUZZLE_DIM)  # create numbers from 1 to (PUZZLE_DIM * PUZZLE_DIM - 1)\n",
    "    goal = np.append(numbers, 0)  # append 0 at the end\n",
    "    return goal.reshape(PUZZLE_DIM, PUZZLE_DIM)  # return reshaped NxN NumPy array"
   ]
  },
  {
   "cell_type": "code",
   "execution_count": 23,
   "metadata": {},
   "outputs": [
    {
     "name": "stdout",
     "output_type": "stream",
     "text": [
      "[[ 1  2  3  4]\n",
      " [ 5  6  7  8]\n",
      " [ 9 10 11 12]\n",
      " [13 14 15  0]]\n"
     ]
    }
   ],
   "source": [
    "goal = generate_goal(PUZZLE_DIM)\n",
    "print(goal)"
   ]
  },
  {
   "cell_type": "code",
   "execution_count": 24,
   "metadata": {},
   "outputs": [],
   "source": [
    "def available_actions(state: np.ndarray) -> list['Action']:\n",
    "    x, y = [int(_[0]) for _ in np.where(state == 0)]\n",
    "    actions = list()\n",
    "    if x > 0:\n",
    "        actions.append(action((x, y), (x - 1, y)))\n",
    "    if x < PUZZLE_DIM - 1:\n",
    "        actions.append(action((x, y), (x + 1, y)))\n",
    "    if y > 0:\n",
    "        actions.append(action((x, y), (x, y - 1)))\n",
    "    if y < PUZZLE_DIM - 1:\n",
    "        actions.append(action((x, y), (x, y + 1)))\n",
    "    return actions\n",
    "\n",
    "\n",
    "\n",
    "def do_action(state: np.ndarray, action: 'Action') -> np.ndarray:\n",
    "    new_state = state.copy()\n",
    "    new_state[action.pos1], new_state[action.pos2] = new_state[action.pos2], new_state[action.pos1]\n",
    "    return new_state"
   ]
  },
  {
   "cell_type": "code",
   "execution_count": 25,
   "metadata": {},
   "outputs": [
    {
     "data": {
      "application/vnd.jupyter.widget-view+json": {
       "model_id": "f3b52d9a19d04cf48adb35331718a0aa",
       "version_major": 2,
       "version_minor": 0
      },
      "text/plain": [
       "Randomizing:   0%|          | 0/150 [00:00<?, ?it/s]"
      ]
     },
     "metadata": {},
     "output_type": "display_data"
    },
    {
     "data": {
      "text/plain": [
       "array([[ 9,  1, 11,  7],\n",
       "       [ 6,  0,  8,  2],\n",
       "       [ 5, 10, 12,  4],\n",
       "       [13, 14,  3, 15]])"
      ]
     },
     "execution_count": 25,
     "metadata": {},
     "output_type": "execute_result"
    }
   ],
   "source": [
    "RANDOMIZE_STEPS = 150\n",
    "state = np.array([i for i in range(1, PUZZLE_DIM**2)] + [0]).reshape((PUZZLE_DIM, PUZZLE_DIM))\n",
    "for r in tqdm(range(RANDOMIZE_STEPS), desc='Randomizing'):\n",
    "    state = do_action(state, choice(available_actions(state)))\n",
    "state"
   ]
  },
  {
   "cell_type": "code",
   "execution_count": 26,
   "metadata": {},
   "outputs": [],
   "source": [
    "def find_zero(state):\n",
    "    \"\"\"Find the position of 0 in the grid.\"\"\"\n",
    "    return np.argwhere(state == 0)[0]\n"
   ]
  },
  {
   "cell_type": "code",
   "execution_count": 27,
   "metadata": {},
   "outputs": [],
   "source": [
    "def manhattan_distance(state, goal):\n",
    "    \"\"\"Calculate the Manhattan distance between the current state and the goal state.\"\"\"\n",
    "    distance = 0\n",
    "    rows, cols = state.shape\n",
    "    for r in range(rows):\n",
    "        for c in range(cols):\n",
    "            if state[r, c] != 0:  # Ignore the empty space\n",
    "                goal_pos = np.argwhere(goal == state[r, c])[0]\n",
    "                distance += abs(goal_pos[0] - r) + abs(goal_pos[1] - c)\n",
    "    return distance"
   ]
  },
  {
   "cell_type": "code",
   "execution_count": 28,
   "metadata": {},
   "outputs": [],
   "source": [
    "def get_neighbors(state):\n",
    "    \"\"\"Generate possible neighbors for a given state by swapping the empty space (0).\"\"\"\n",
    "    neighbors = []\n",
    "    rows, cols = state.shape\n",
    "    empty_space_pos = tuple(np.argwhere(state == 0)[0])  # find the position of 0\n",
    "\n",
    "    # list of possible moves (up, down, left, right)\n",
    "    moves = [(-1, 0), (1, 0), (0, -1), (0, 1)]\n",
    "    \n",
    "    for move in moves:\n",
    "        new_row = empty_space_pos[0] + move[0]\n",
    "        new_col = empty_space_pos[1] + move[1]\n",
    "        \n",
    "        if 0 <= new_row < rows and 0 <= new_col < cols:\n",
    "            # swap the empty space with the new position\n",
    "            new_state = state.copy()\n",
    "            new_state[empty_space_pos], new_state[new_row, new_col] = new_state[new_row, new_col], new_state[empty_space_pos]\n",
    "            neighbors.append(new_state)\n",
    "    \n",
    "    return neighbors"
   ]
  },
  {
   "cell_type": "code",
   "execution_count": 29,
   "metadata": {},
   "outputs": [],
   "source": [
    "def a_star(start, goal):\n",
    "    \"\"\"A* search to solve the puzzle.\"\"\"\n",
    "    # Priority queue stores tuples: (f(n), g(n), state, path)\n",
    "    open_list = []\n",
    "    start_tuple = tuple(start.flatten())  # Convert start state to tuple\n",
    "    heapq.heappush(open_list, (0 + manhattan_distance(start, goal), 0, start_tuple, []))  # (f, g, state, path)\n",
    "    closed_list = set()  # Set to store visited states\n",
    "    evaluated_cases = 0  # Track the number of cases evaluated\n",
    "    \n",
    "    while open_list:\n",
    "        f, g, current_state_tuple, path = heapq.heappop(open_list)\n",
    "\n",
    "        # Convert tuple back to numpy array for comparison\n",
    "        current_state = np.array(current_state_tuple).reshape(goal.shape)\n",
    "\n",
    "        # np.all() to compare the current state and goal\n",
    "        if np.all(current_state == goal):\n",
    "            print(\"Goal Reached!\")\n",
    "            print(f\"Total cost (g): {g}\")  \n",
    "            return path, g, evaluated_cases  \n",
    "\n",
    "        closed_list.add(current_state_tuple)  # add the current state to visited\n",
    "        evaluated_cases += 1  # increment the number of evaluated cases\n",
    "        \n",
    "        for neighbor in get_neighbors(current_state):\n",
    "            # convert the neighbor state to a tuple\n",
    "            neighbor_tuple = tuple(neighbor.flatten())\n",
    "            \n",
    "            # skip the state if it has already been visited\n",
    "            if neighbor_tuple in closed_list:\n",
    "                continue\n",
    "\n",
    "            new_g = g + 1  # the cost to reach this neighbor\n",
    "            new_f = new_g + manhattan_distance(neighbor, goal)  # f(n) = g(n) + h(n)\n",
    "            \n",
    "            # append the neighbor to the path as a tuple (for consistency and to avoid numpy ambiguity)\n",
    "            heapq.heappush(open_list, (new_f, new_g, neighbor_tuple, path + [tuple(neighbor.flatten())]))\n",
    "\n",
    "    return None, None, evaluated_cases  # No solution"
   ]
  },
  {
   "cell_type": "code",
   "execution_count": null,
   "metadata": {},
   "outputs": [
    {
     "name": "stdout",
     "output_type": "stream",
     "text": [
      "Goal Reached!\n",
      "Total cost (g): 34\n",
      "Solution Path:\n",
      "[[9, 1, 11, 7], [6, 8, 0, 2], [5, 10, 12, 4], [13, 14, 3, 15]]\n",
      "[[9, 1, 0, 7], [6, 8, 11, 2], [5, 10, 12, 4], [13, 14, 3, 15]]\n",
      "[[9, 1, 7, 0], [6, 8, 11, 2], [5, 10, 12, 4], [13, 14, 3, 15]]\n",
      "[[9, 1, 7, 2], [6, 8, 11, 0], [5, 10, 12, 4], [13, 14, 3, 15]]\n",
      "[[9, 1, 7, 2], [6, 8, 11, 4], [5, 10, 12, 0], [13, 14, 3, 15]]\n",
      "[[9, 1, 7, 2], [6, 8, 11, 4], [5, 10, 0, 12], [13, 14, 3, 15]]\n",
      "[[9, 1, 7, 2], [6, 8, 11, 4], [5, 10, 3, 12], [13, 14, 0, 15]]\n",
      "[[9, 1, 7, 2], [6, 8, 11, 4], [5, 10, 3, 12], [13, 0, 14, 15]]\n",
      "[[9, 1, 7, 2], [6, 8, 11, 4], [5, 0, 3, 12], [13, 10, 14, 15]]\n",
      "[[9, 1, 7, 2], [6, 8, 11, 4], [5, 3, 0, 12], [13, 10, 14, 15]]\n",
      "[[9, 1, 7, 2], [6, 8, 0, 4], [5, 3, 11, 12], [13, 10, 14, 15]]\n",
      "[[9, 1, 7, 2], [6, 0, 8, 4], [5, 3, 11, 12], [13, 10, 14, 15]]\n",
      "[[9, 1, 7, 2], [6, 3, 8, 4], [5, 0, 11, 12], [13, 10, 14, 15]]\n",
      "[[9, 1, 7, 2], [6, 3, 8, 4], [0, 5, 11, 12], [13, 10, 14, 15]]\n",
      "[[9, 1, 7, 2], [0, 3, 8, 4], [6, 5, 11, 12], [13, 10, 14, 15]]\n",
      "[[0, 1, 7, 2], [9, 3, 8, 4], [6, 5, 11, 12], [13, 10, 14, 15]]\n",
      "[[1, 0, 7, 2], [9, 3, 8, 4], [6, 5, 11, 12], [13, 10, 14, 15]]\n",
      "[[1, 7, 0, 2], [9, 3, 8, 4], [6, 5, 11, 12], [13, 10, 14, 15]]\n",
      "[[1, 7, 2, 0], [9, 3, 8, 4], [6, 5, 11, 12], [13, 10, 14, 15]]\n",
      "[[1, 7, 2, 4], [9, 3, 8, 0], [6, 5, 11, 12], [13, 10, 14, 15]]\n",
      "[[1, 7, 2, 4], [9, 3, 0, 8], [6, 5, 11, 12], [13, 10, 14, 15]]\n",
      "[[1, 7, 2, 4], [9, 0, 3, 8], [6, 5, 11, 12], [13, 10, 14, 15]]\n",
      "[[1, 0, 2, 4], [9, 7, 3, 8], [6, 5, 11, 12], [13, 10, 14, 15]]\n",
      "[[1, 2, 0, 4], [9, 7, 3, 8], [6, 5, 11, 12], [13, 10, 14, 15]]\n",
      "[[1, 2, 3, 4], [9, 7, 0, 8], [6, 5, 11, 12], [13, 10, 14, 15]]\n",
      "[[1, 2, 3, 4], [9, 0, 7, 8], [6, 5, 11, 12], [13, 10, 14, 15]]\n",
      "[[1, 2, 3, 4], [9, 5, 7, 8], [6, 0, 11, 12], [13, 10, 14, 15]]\n",
      "[[1, 2, 3, 4], [9, 5, 7, 8], [0, 6, 11, 12], [13, 10, 14, 15]]\n",
      "[[1, 2, 3, 4], [0, 5, 7, 8], [9, 6, 11, 12], [13, 10, 14, 15]]\n",
      "[[1, 2, 3, 4], [5, 0, 7, 8], [9, 6, 11, 12], [13, 10, 14, 15]]\n",
      "[[1, 2, 3, 4], [5, 6, 7, 8], [9, 0, 11, 12], [13, 10, 14, 15]]\n",
      "[[1, 2, 3, 4], [5, 6, 7, 8], [9, 10, 11, 12], [13, 0, 14, 15]]\n",
      "[[1, 2, 3, 4], [5, 6, 7, 8], [9, 10, 11, 12], [13, 14, 0, 15]]\n",
      "[[1, 2, 3, 4], [5, 6, 7, 8], [9, 10, 11, 12], [13, 14, 15, 0]]\n",
      "Total cost: 34\n",
      "Total cases evaluated: 101043\n"
     ]
    }
   ],
   "source": [
    "goal = generate_goal(PUZZLE_DIM)  \n",
    "start = state \n",
    "\n",
    "solution_path, total_cost, evaluated_cases = a_star(start, goal)\n",
    "\n",
    "if solution_path is not None:\n",
    "    print(\"Solution Path:\")\n",
    "    for step in solution_path:\n",
    "        print(np.array(step).reshape(goal.shape).tolist())  \n",
    "else:\n",
    "    print(\"No solution found\")\n",
    "\n",
    "print(f\"Total cost: {total_cost}\")\n",
    "\n",
    "print(f\"Total cases evaluated: {evaluated_cases}\")\n"
   ]
  },
  {
   "cell_type": "code",
   "execution_count": null,
   "metadata": {},
   "outputs": [],
   "source": []
  }
 ],
 "metadata": {
  "kernelspec": {
   "display_name": "Python 3",
   "language": "python",
   "name": "python3"
  },
  "language_info": {
   "codemirror_mode": {
    "name": "ipython",
    "version": 3
   },
   "file_extension": ".py",
   "mimetype": "text/x-python",
   "name": "python",
   "nbconvert_exporter": "python",
   "pygments_lexer": "ipython3",
   "version": "3.10.0"
  }
 },
 "nbformat": 4,
 "nbformat_minor": 2
}
